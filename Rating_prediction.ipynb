{
 "cells": [
  {
   "cell_type": "code",
   "execution_count": 1,
   "metadata": {},
   "outputs": [],
   "source": [
    "import pandas as pd\n",
    "import numpy as np\n",
    "import matplotlib.pyplot as plt"
   ]
  },
  {
   "cell_type": "code",
   "execution_count": 2,
   "metadata": {},
   "outputs": [],
   "source": [
    "traindata = pd.read_csv(\"training_data.csv\")\n",
    "testdata = pd.read_csv(\"test_data.csv\")\n",
    "#print(traindata)\n",
    "#print(testdata)\n",
    "#print(traindata.shape)\n",
    "texts = traindata[\"text\"]\n",
    "outcomes = traindata[\"stars\"]"
   ]
  },
  {
   "cell_type": "code",
   "execution_count": 3,
   "metadata": {},
   "outputs": [],
   "source": [
    "from sklearn.model_selection import train_test_split\n",
    "\n",
    "text_train, text_test, outcome_train, outcome_test = train_test_split(texts, outcomes,test_size=0.2,stratify=outcomes)"
   ]
  },
  {
   "cell_type": "code",
   "execution_count": null,
   "metadata": {},
   "outputs": [],
   "source": [
    "# def de_typo(string):\n",
    "#     last = None\n",
    "#     for char in string:\n",
    "#         if last != char or char in 'sedrftgbnmolp':\n",
    "#             yield char\n",
    "#             last = char\n",
    "\n",
    "# def preprocess(t):\n",
    "#     return ''.join(de_typo(t.lower()))"
   ]
  },
  {
   "cell_type": "code",
   "execution_count": null,
   "metadata": {},
   "outputs": [],
   "source": [
    "# denial = {'not', \"n't\", 'never'}\n",
    "\n",
    "# def denial_of_adj(adv_adj):\n",
    "#     adv, adj = adv_adj[:-1], adv_adj[-1][0]\n",
    "#     pos = True\n",
    "#     for prefix in adv:\n",
    "#         if prefix[0] in denial:\n",
    "#             pos = not pos\n",
    "#     adj = ('' if pos else 'not') + adj\n",
    "#     return  adj\n",
    "\n",
    "# Adj_parser = nltk.RegexpParser(\"ADJ: {(<DT|RB.?>*<JJ.?>)}\").parse\n",
    "\n",
    "# expen = lambda f: lambda x: ' '.join(f(x))\n",
    "\n",
    "# @expen\n",
    "# def f(x, pos=pos_tag):\n",
    "#     with_tags = pos(word_tokenize(x))\n",
    "#     for w in Adj_parser(with_tags):\n",
    "#         if isinstance(w, tuple):\n",
    "#             if re.match('VB.?', w[1]):\n",
    "#                 yield w[0]\n",
    "#         else:\n",
    "#             yield denial_of_adj(w)"
   ]
  },
  {
   "cell_type": "code",
   "execution_count": 4,
   "metadata": {},
   "outputs": [
    {
     "data": {
      "text/plain": [
       "TfidfVectorizer(analyzer='word', binary=False, decode_error='strict',\n",
       "        dtype=<class 'numpy.int64'>, encoding='utf-8', input='content',\n",
       "        lowercase=True, max_df=1.0, max_features=None, min_df=1,\n",
       "        ngram_range=(1, 1), norm='l2', preprocessor=None, smooth_idf=True,\n",
       "        stop_words=None, strip_accents=None, sublinear_tf=False,\n",
       "        token_pattern='(?u)\\\\b\\\\w\\\\w+\\\\b', tokenizer=None, use_idf=True,\n",
       "        vocabulary=None)"
      ]
     },
     "execution_count": 4,
     "metadata": {},
     "output_type": "execute_result"
    }
   ],
   "source": [
    "from sklearn.feature_extraction.text import TfidfVectorizer\n",
    "\n",
    "vectorizer = TfidfVectorizer()\n",
    "vectorizer.fit(texts)"
   ]
  },
  {
   "cell_type": "code",
   "execution_count": 5,
   "metadata": {},
   "outputs": [],
   "source": [
    "x_train = vectorizer.transform(text_train)\n",
    "x_test = vectorizer.transform(text_test)\n",
    "allx = vectorizer.transform(texts)"
   ]
  },
  {
   "cell_type": "code",
   "execution_count": 6,
   "metadata": {},
   "outputs": [
    {
     "data": {
      "text/plain": [
       "LogisticRegression(C=1.0, class_weight=None, dual=False, fit_intercept=True,\n",
       "          intercept_scaling=1, max_iter=100, multi_class='ovr', n_jobs=1,\n",
       "          penalty='l2', random_state=None, solver='liblinear', tol=0.0001,\n",
       "          verbose=0, warm_start=False)"
      ]
     },
     "execution_count": 6,
     "metadata": {},
     "output_type": "execute_result"
    }
   ],
   "source": [
    "from sklearn.linear_model import LogisticRegression\n",
    "\n",
    "logis = LogisticRegression()\n",
    "#logis.fit(x_train,outcome_train)\n",
    "logis.fit(allx,outcomes)"
   ]
  },
  {
   "cell_type": "code",
   "execution_count": 7,
   "metadata": {},
   "outputs": [
    {
     "data": {
      "text/plain": [
       "0.749375"
      ]
     },
     "execution_count": 7,
     "metadata": {},
     "output_type": "execute_result"
    }
   ],
   "source": [
    "logis.score(x_test,outcome_test)"
   ]
  },
  {
   "cell_type": "code",
   "execution_count": 46,
   "metadata": {},
   "outputs": [
    {
     "data": {
      "text/plain": [
       "SVC(C=1.0, cache_size=200, class_weight=None, coef0=0.0,\n",
       "  decision_function_shape='ovr', degree=3, gamma='auto', kernel='rbf',\n",
       "  max_iter=-1, probability=False, random_state=None, shrinking=True,\n",
       "  tol=0.001, verbose=False)"
      ]
     },
     "execution_count": 46,
     "metadata": {},
     "output_type": "execute_result"
    }
   ],
   "source": [
    "from sklearn import svm\n",
    "svc = svm.SVC(kernel='linear')\n",
    "svc_r = svm.SVC(kernel='rbf')\n",
    "#svc.fit(x_train,outcome_train)\n",
    "svc.fit(allx,outcomes)\n",
    "svc_r.fit(allx,outcomes)"
   ]
  },
  {
   "cell_type": "code",
   "execution_count": 49,
   "metadata": {},
   "outputs": [
    {
     "name": "stdout",
     "output_type": "stream",
     "text": [
      "0.848125\n",
      "0.3525\n"
     ]
    }
   ],
   "source": [
    "print(svc.score(x_test,outcome_test))\n",
    "print(svc_r.score(x_test,outcome_test))"
   ]
  },
  {
   "cell_type": "code",
   "execution_count": 48,
   "metadata": {},
   "outputs": [
    {
     "data": {
      "text/plain": [
       "SVR(C=1.0, cache_size=200, coef0=0.0, degree=3, epsilon=0.1, gamma='auto',\n",
       "  kernel='rbf', max_iter=-1, shrinking=True, tol=0.001, verbose=False)"
      ]
     },
     "execution_count": 48,
     "metadata": {},
     "output_type": "execute_result"
    }
   ],
   "source": [
    "svr = svm.SVR(kernel='linear')\n",
    "svr_r = svm.SVR(kernel='rbf')\n",
    "#svc.fit(x_train,outcome_train)\n",
    "svr.fit(allx,outcomes)\n",
    "svr_r.fit(allx,outcomes)"
   ]
  },
  {
   "cell_type": "code",
   "execution_count": 50,
   "metadata": {},
   "outputs": [
    {
     "name": "stdout",
     "output_type": "stream",
     "text": [
      "0.7782530802222483\n",
      "-0.06869321395985262\n"
     ]
    }
   ],
   "source": [
    "print(svr.score(x_test,outcome_test))\n",
    "print(svr_r.score(x_test,outcome_test))"
   ]
  },
  {
   "cell_type": "code",
   "execution_count": 12,
   "metadata": {},
   "outputs": [
    {
     "data": {
      "text/plain": [
       "RandomForestClassifier(bootstrap=True, class_weight=None, criterion='gini',\n",
       "            max_depth=None, max_features='auto', max_leaf_nodes=None,\n",
       "            min_impurity_decrease=0.0, min_impurity_split=None,\n",
       "            min_samples_leaf=1, min_samples_split=2,\n",
       "            min_weight_fraction_leaf=0.0, n_estimators=10, n_jobs=1,\n",
       "            oob_score=False, random_state=None, verbose=0,\n",
       "            warm_start=False)"
      ]
     },
     "execution_count": 12,
     "metadata": {},
     "output_type": "execute_result"
    }
   ],
   "source": [
    "from sklearn.ensemble import RandomForestClassifier\n",
    "rf = RandomForestClassifier()\n",
    "#rf.fit(x_train,outcome_train)\n",
    "rf.fit(allx,outcomes)"
   ]
  },
  {
   "cell_type": "code",
   "execution_count": 13,
   "metadata": {},
   "outputs": [
    {
     "data": {
      "text/plain": [
       "0.9925"
      ]
     },
     "execution_count": 13,
     "metadata": {},
     "output_type": "execute_result"
    }
   ],
   "source": [
    "rf.score(x_test,outcome_test)"
   ]
  },
  {
   "cell_type": "code",
   "execution_count": 14,
   "metadata": {},
   "outputs": [
    {
     "data": {
      "text/plain": [
       "LinearRegression(copy_X=True, fit_intercept=True, n_jobs=1, normalize=False)"
      ]
     },
     "execution_count": 14,
     "metadata": {},
     "output_type": "execute_result"
    }
   ],
   "source": [
    "from sklearn.linear_model import LinearRegression\n",
    "lr = LinearRegression()\n",
    "#lr.fit(x_train,outcome_train)\n",
    "lr.fit(allx,outcomes)"
   ]
  },
  {
   "cell_type": "code",
   "execution_count": 15,
   "metadata": {},
   "outputs": [
    {
     "data": {
      "text/plain": [
       "0.9999999974877041"
      ]
     },
     "execution_count": 15,
     "metadata": {},
     "output_type": "execute_result"
    }
   ],
   "source": [
    "lr.score(x_test,outcome_test)"
   ]
  },
  {
   "cell_type": "code",
   "execution_count": 59,
   "metadata": {},
   "outputs": [],
   "source": [
    "cptext = testdata[\"text\"]\n",
    "cpx = vectorizer.transform(cptext)\n",
    "#finalpred = 0.11*logis.predict(cpx) + 0.77*svc.predict(cpx) + 0.12*rf.predict(cpx) + 0.12*lr.predict(cpx) #0.9159\n",
    "#finalpred = 0.11*logis.predict(cpx) + 0.77*svc.predict(cpx) + 0.06*rf.predict(cpx) + 0.06*lr.predict(cpx) #0.8942\n",
    "#finalpred = 0.16*logis.predict(cpx) + 0.7*svc.predict(cpx) + 0.07*rf.predict(cpx) + 0.07*lr.predict(cpx) #0.8907\n",
    "#finalpred = 0.16*logis.predict(cpx) + 0.7*svc.predict(cpx) + 0.14*lr.predict(cpx) #0.8892\n",
    "#finalpred = 0.16*logis.predict(cpx) + 0.7*svc.predict(cpx) + 0.14*svr.predict(cpx) #0.8817\n",
    "#finalpred = 0.7*svc.predict(cpx) + 0.3*svr.predict(cpx) #0.8544 \n",
    "#finalpred = 0.6*svc.predict(cpx) + 0.3*svr.predict(cpx) + 0.1*lr.predict(cpx) #0.8440\n",
    "#finalpred = 0.7*svr.predict(cpx) + 0.3*svc.predict(cpx) #0.8340\n",
    "#finalpred = 0.64*svr.predict(cpx)+0.36*svc.predict(cpx) #0.8307\n",
    "#finalpred = 0.64*svr.predict(cpx)+0.32*svc.predict(cpx)  #0.8288\n",
    "#finalpred = 0.66*svr.predict(cpx)+0.33*svc.predict(cpx)  #0.8282\n",
    "finalpred = 0.65*svr.predict(cpx)+0.36*svc.predict(cpx)"
   ]
  },
  {
   "cell_type": "code",
   "execution_count": 60,
   "metadata": {},
   "outputs": [],
   "source": [
    "x = testdata[\"review_id\"]\n",
    "y = finalpred\n",
    "df = pd.DataFrame({\"x\":x,\"y\":y})\n",
    "#print(df)\n",
    "df.to_csv(\"prediction_v16.csv\",sep=',',index=False,header=False)"
   ]
  },
  {
   "cell_type": "code",
   "execution_count": null,
   "metadata": {},
   "outputs": [],
   "source": []
  }
 ],
 "metadata": {
  "kernelspec": {
   "display_name": "Python 3",
   "language": "python",
   "name": "python3"
  },
  "language_info": {
   "codemirror_mode": {
    "name": "ipython",
    "version": 3
   },
   "file_extension": ".py",
   "mimetype": "text/x-python",
   "name": "python",
   "nbconvert_exporter": "python",
   "pygments_lexer": "ipython3",
   "version": "3.6.4"
  }
 },
 "nbformat": 4,
 "nbformat_minor": 2
}
